{
 "cells": [
  {
   "cell_type": "code",
   "execution_count": 1,
   "metadata": {},
   "outputs": [],
   "source": [
    "import tiktoken\n",
    "from unidecode import unidecode"
   ]
  },
  {
   "cell_type": "code",
   "execution_count": 2,
   "metadata": {},
   "outputs": [],
   "source": [
    "cl100k_base = tiktoken.get_encoding(\"cl100k_base\")\n",
    "enc = tiktoken.Encoding(\n",
    "    name = \"test\",\n",
    "    pat_str=cl100k_base._pat_str,\n",
    "    mergeable_ranks=cl100k_base._mergeable_ranks,\n",
    "    special_tokens={\n",
    "        **cl100k_base._special_tokens,\n",
    "    }\n",
    ")"
   ]
  },
  {
   "cell_type": "code",
   "execution_count": 42,
   "metadata": {},
   "outputs": [
    {
     "name": "stdout",
     "output_type": "stream",
     "text": [
      "[57668, 53901]\n",
      "[71, 15190]\n",
      "[37046, 19000, 37046, 81258, 19000, 33565, 111, 31634, 21043, 37046, 74257, 36827, 72368, 44388, 91985, 28638, 238, 19000, 44388, 70349, 84150, 109, 15722, 234]\n",
      "[63862, 1901, 2192, 28357, 622, 19260, 1901, 2192, 1630, 28323, 91030, 41804, 28357, 92033, 48443, 16062, 1901, 383, 25482, 1901, 24012, 1901, 2192, 1901, 383, 14851, 44472, 4323, 220]\n",
      "[63862, 1901, 383, 25482, 1901, 24012, 1901, 2192, 1901, 383, 14851, 44472, 4323, 220]\n",
      "[37046, 44388, 91985, 28638, 238, 19000, 44388, 70349, 84150, 109, 15722, 234]\n",
      "[7907]\n",
      "[68800, 72, 135, 238, 89, 281, 135, 230, 134, 234, 303, 134, 240, 99638, 406, 66113, 303, 289, 135, 230, 133, 249, 75, 133, 94, 133, 117, 135, 230, 64, 134, 232, 303, 157, 113, 119, 67, 357, 133, 117, 135, 230, 133, 103, 5964, 134, 225, 133, 248, 89, 220, 133, 238, 501, 135, 230, 64, 133, 103, 67, 289, 133, 103, 68800, 357, 135, 230, 133, 103, 75, 220, 133, 94, 133, 117, 135, 230, 68, 133, 103, 133, 122, 133, 248, 282, 135, 230, 78, 135, 238, 133, 117, 82, 259, 99638, 1717, 108, 133, 103, 220, 134, 234, 50536, 99638, 38041, 135, 230, 133, 103, 5964, 157, 113, 119, 67, 281, 133, 117, 135, 230, 133, 103, 89, 99638, 77, 133, 248, 11, 1717, 108, 99638, 296, 135, 230, 9371, 77, 305, 135, 234, 84, 135, 238, 597, 135, 230, 68, 133, 103, 76, 259, 99638, 1717, 108, 99638, 281, 133, 117, 135, 230, 133, 103, 89, 99638, 77, 220, 135, 230, 133, 103, 77, 99638, 82, 99638, 406, 11, 66113, 303, 357, 135, 230, 133, 103, 75, 220, 134, 234, 50536, 99638, 406, 135, 230, 9371, 76, 157, 113, 119, 77, 135, 234, 68, 133, 103, 133, 122, 157, 113, 119, 67, 11]\n"
     ]
    }
   ],
   "source": [
    "print(enc.encode(\"你好\"))\n",
    "print(enc.encode(\"h ao\"))\n",
    "print(enc.encode(\"我在我就在想要是我每天都这样坐在这里唱歌\"))\n",
    "print(enc.encode(unidecode(\"我在我就在想要是我每天都这样坐在这里唱歌\")))\n",
    "print(enc.encode(unidecode(\"我这样坐在这里唱歌\")))\n",
    "print(enc.encode((\"我这样坐在这里唱歌\")))\n",
    "print(enc.encode(\"ni\"))\n",
    "print(enc.encode(\"ðiːz pˈʌndʒənt ænd wˈɛlɡɹˈaʊndᵻd stɹˈɪktʃɚz ɐplˈaɪd wɪð stˈɪl ɡɹˈeɪɾɚ fˈoːɹs tə ðɪ ʌnkənvˈɪktᵻd pɹˈɪzənɚ, ðə mˈæn hˌuː kˈeɪm tə ðə pɹˈɪzən ˈɪnəsənt, ænd stˈɪl ʌnkəntˈæmᵻnˌeɪɾᵻd,\"))"
   ]
  },
  {
   "cell_type": "code",
   "execution_count": 13,
   "metadata": {},
   "outputs": [
    {
     "data": {
      "text/plain": [
       "torch.Size([13, 192])"
      ]
     },
     "execution_count": 13,
     "metadata": {},
     "output_type": "execute_result"
    }
   ],
   "source": [
    "import torch\n",
    "from torch import nn as nn\n",
    "\n",
    "emb = nn.Embedding(200000, 192)\n",
    "x = enc.encode(\"but there is a system of the world which has its own laws\")\n",
    "print(x)\n",
    "emb(torch.tensor(x)).shape"
   ]
  }
 ],
 "metadata": {
  "kernelspec": {
   "display_name": "fish-audio",
   "language": "python",
   "name": "python3"
  },
  "language_info": {
   "codemirror_mode": {
    "name": "ipython",
    "version": 3
   },
   "file_extension": ".py",
   "mimetype": "text/x-python",
   "name": "python",
   "nbconvert_exporter": "python",
   "pygments_lexer": "ipython3",
   "version": "3.10.9"
  },
  "orig_nbformat": 4
 },
 "nbformat": 4,
 "nbformat_minor": 2
}
