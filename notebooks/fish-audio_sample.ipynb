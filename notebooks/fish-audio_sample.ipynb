{
 "cells": [
  {
   "attachments": {},
   "cell_type": "markdown",
   "metadata": {},
   "source": [
    "# Fish Diffusion"
   ]
  },
  {
   "cell_type": "code",
   "execution_count": 1,
   "metadata": {},
   "outputs": [
    {
     "data": {
      "text/html": [
       "\n",
       "<a target=\"_blank\" href=\"https://colab.research.google.com/github/facebookresearch/segment-anything/blob/main/notebooks/automatic_mask_generator_example.ipynb\">\n",
       "  <img src=\"https://colab.research.google.com/assets/colab-badge.svg\" alt=\"Open In Colab\"/>\n",
       "</a>\n"
      ],
      "text/plain": [
       "<IPython.core.display.HTML object>"
      ]
     },
     "metadata": {},
     "output_type": "display_data"
    }
   ],
   "source": [
    "from IPython.display import display, HTML\n",
    "display(HTML(\n",
    "\"\"\"\n",
    "<a target=\"_blank\" href=\"https://colab.research.google.com/github/fishaudio/fish-diffusion/blob/notebooks-support/notebooks/fish-audio_sample.ipynb\">\n",
    "  <img src=\"https://colab.research.google.com/assets/colab-badge.svg\" alt=\"Open In Colab\"/>\n",
    "</a>\n",
    "\"\"\"\n",
    "))"
   ]
  },
  {
   "attachments": {},
   "cell_type": "markdown",
   "metadata": {},
   "source": [
    "### Environment Setup\n",
    "\n",
    "\n"
   ]
  },
  {
   "attachments": {},
   "cell_type": "markdown",
   "metadata": {},
   "source": [
    "Install Conda"
   ]
  },
  {
   "cell_type": "code",
   "execution_count": null,
   "metadata": {},
   "outputs": [],
   "source": [
    "%%bash\n",
    "mkdir /content/env\n",
    "MINICONDA_INSTALLER_SCRIPT=Miniconda3-py310_23.1.0-1-Linux-x86_64.sh\n",
    "MINICONDA_PREFIX=/content/env\n",
    "wget https://repo.continuum.io/miniconda/$MINICONDA_INSTALLER_SCRIPT\n",
    "chmod +x $MINICONDA_INSTALLER_SCRIPT\n",
    "./$MINICONDA_INSTALLER_SCRIPT -b -f -p $MINICONDA_PREFIX"
   ]
  },
  {
   "attachments": {},
   "cell_type": "markdown",
   "metadata": {},
   "source": [
    "Create conda environment"
   ]
  },
  {
   "cell_type": "code",
   "execution_count": null,
   "metadata": {},
   "outputs": [],
   "source": [
    "!source /content/env/bin/activate;\\\n",
    "conda create -n fish_diffusion python=3.10 -y"
   ]
  },
  {
   "attachments": {},
   "cell_type": "markdown",
   "metadata": {},
   "source": [
    "Install pytorch"
   ]
  },
  {
   "cell_type": "markdown",
   "metadata": {},
   "source": []
  },
  {
   "cell_type": "code",
   "execution_count": null,
   "metadata": {},
   "outputs": [],
   "source": [
    "\n",
    "# Install PyTorch related core dependencies\n",
    "!source /content/env/bin/activate;\\\n",
    "conda activate fish_diffusion;\\\n",
    "conda install \"pytorch>=2.0.0\" \"torchvision>=0.15.0\" \"torchaudio>=2.0.0\" pytorch-cuda=11.8 -c pytorch -c nvidia -y\n"
   ]
  },
  {
   "attachments": {},
   "cell_type": "markdown",
   "metadata": {},
   "source": [
    "Install dependencies"
   ]
  },
  {
   "cell_type": "code",
   "execution_count": null,
   "metadata": {},
   "outputs": [],
   "source": [
    "!git clone https://github.com/fishaudio/fish-diffusion\n",
    "%cd fish-diffusion\n",
    "!git checkout notebooks-support"
   ]
  },
  {
   "cell_type": "code",
   "execution_count": null,
   "metadata": {},
   "outputs": [],
   "source": [
    "!source /content/env/bin/activate;\\\n",
    "conda activate fish_diffusion;\\\n",
    "cat requirements.txt | xargs -n 1 pip install;\\\n",
    "pip install -e ."
   ]
  },
  {
   "attachments": {},
   "cell_type": "markdown",
   "metadata": {},
   "source": [
    "### Vocoder preparation"
   ]
  },
  {
   "cell_type": "code",
   "execution_count": null,
   "metadata": {},
   "outputs": [],
   "source": [
    "!source /content/env/bin/activate;\\\n",
    "conda activate fish_diffusion;\\\n",
    "python tools/download_nsf_hifigan.py --agree-license"
   ]
  },
  {
   "attachments": {},
   "cell_type": "markdown",
   "metadata": {},
   "source": [
    "### Dataset preparation\n",
    "```shell\n",
    "dataset\n",
    "├───train\n",
    "│   ├───xxx1-xxx1.wav\n",
    "│   ├───...\n",
    "│   ├───Lxx-0xx8.wav\n",
    "│   └───speaker0 (Subdirectory is also supported)\n",
    "│       └───xxx1-xxx1.wav\n",
    "└───valid\n",
    "    ├───xx2-0xxx2.wav\n",
    "    ├───...\n",
    "    └───xxx7-xxx007.wav\n",
    "```"
   ]
  },
  {
   "attachments": {},
   "cell_type": "markdown",
   "metadata": {},
   "source": [
    "##### Mount google drive or upload your dataset"
   ]
  },
  {
   "cell_type": "code",
   "execution_count": null,
   "metadata": {},
   "outputs": [],
   "source": [
    "from google.colab import drive\n",
    "drive.mount('/content/drive/')"
   ]
  },
  {
   "attachments": {},
   "cell_type": "markdown",
   "metadata": {},
   "source": [
    "#### Soft link your dataset to the current diretory"
   ]
  },
  {
   "cell_type": "code",
   "execution_count": 2,
   "metadata": {},
   "outputs": [],
   "source": [
    "dataset_path = \"/content/drive/MyDrive/test-fish-audio/dataset/\"#@param{type:\"string\"}\n",
    "!ln -s $dataset_path dataset"
   ]
  },
  {
   "attachments": {},
   "cell_type": "markdown",
   "metadata": {},
   "source": [
    "#### Extract all data features, such as pitch, text features, mel features, etc."
   ]
  },
  {
   "attachments": {},
   "cell_type": "markdown",
   "metadata": {},
   "source": [
    "##### if error about torchvision occured, run this cell"
   ]
  },
  {
   "cell_type": "code",
   "execution_count": null,
   "metadata": {},
   "outputs": [],
   "source": [
    "# !source /content/env/bin/activate;\\\n",
    "# conda activate fish_diffusion;\\\n",
    "# pip uninstall torchvision -y;\\\n",
    "# pip install torchvision  --index-url https://download.pytorch.org/whl/cu118"
   ]
  },
  {
   "attachments": {},
   "cell_type": "markdown",
   "metadata": {},
   "source": [
    "##### Extract features"
   ]
  },
  {
   "cell_type": "code",
   "execution_count": null,
   "metadata": {},
   "outputs": [],
   "source": [
    "!source /content/env/bin/activate;\\\n",
    "conda activate fish_diffusion;\\\n",
    "python tools/preprocessing/extract_features.py --config configs/svc_hubert_soft.py --path dataset  --clean"
   ]
  },
  {
   "attachments": {},
   "cell_type": "markdown",
   "metadata": {},
   "source": [
    "### Baseline training"
   ]
  },
  {
   "cell_type": "code",
   "execution_count": 1,
   "metadata": {},
   "outputs": [
    {
     "data": {
      "application/vnd.jupyter.widget-view+json": {
       "model_id": "87985964ba68443eacd82a9a0f666456",
       "version_major": 2,
       "version_minor": 0
      },
      "text/plain": [
       "RadioButtons(description='Training Options:', options=('single_gpu', 'multi_gpu', 'multi_node'), value='single…"
      ]
     },
     "metadata": {},
     "output_type": "display_data"
    },
    {
     "data": {
      "application/vnd.jupyter.widget-view+json": {
       "model_id": "a8cad4b523ce49b9af3f7b56bcd3f20f",
       "version_major": 2,
       "version_minor": 0
      },
      "text/plain": [
       "ToggleButtons(description='Pretrained:', options=('yes', 'no'), value='yes')"
      ]
     },
     "metadata": {},
     "output_type": "display_data"
    },
    {
     "data": {
      "application/vnd.jupyter.widget-view+json": {
       "model_id": "44530fac034d40c3ace63b905c4ef4ba",
       "version_major": 2,
       "version_minor": 0
      },
      "text/plain": [
       "ToggleButtons(description='Resume:', options=('yes', 'no'), value='yes')"
      ]
     },
     "metadata": {},
     "output_type": "display_data"
    },
    {
     "data": {
      "application/vnd.jupyter.widget-view+json": {
       "model_id": "c181988027f446b79c5cb5d83090c37d",
       "version_major": 2,
       "version_minor": 0
      },
      "text/plain": [
       "ToggleButtons(description='Network:', options=('difussion', 'hifisinger'), value='difussion')"
      ]
     },
     "metadata": {},
     "output_type": "display_data"
    },
    {
     "data": {
      "application/vnd.jupyter.widget-view+json": {
       "model_id": "a21ab872379d4e9e96a962ab79a5f4e0",
       "version_major": 2,
       "version_minor": 0
      },
      "text/plain": [
       "ToggleButtons(description='Logger:', options=('wandb', 'tensorboard'), value='wandb')"
      ]
     },
     "metadata": {},
     "output_type": "display_data"
    },
    {
     "data": {
      "application/vnd.jupyter.widget-view+json": {
       "model_id": "9c0bbd06f5964dc2a8e674f4e339ac76",
       "version_major": 2,
       "version_minor": 0
      },
      "text/plain": [
       "Text(value='', description='Checkpoint File:', placeholder='Enter the checkpoint file name')"
      ]
     },
     "metadata": {},
     "output_type": "display_data"
    },
    {
     "data": {
      "application/vnd.jupyter.widget-view+json": {
       "model_id": "63d523d9355c4d74bc323b988827a3c2",
       "version_major": 2,
       "version_minor": 0
      },
      "text/plain": [
       "Text(value='', description='Pretrain Checkpoint:', placeholder='Enter the pretrain checkpoint file name')"
      ]
     },
     "metadata": {},
     "output_type": "display_data"
    }
   ],
   "source": [
    "import ipywidgets as widgets\n",
    "from IPython.display import display\n",
    "\n",
    "training_options = widgets.RadioButtons(\n",
    "    options=['single_gpu', 'multi_node'],\n",
    "    cription='Training Options:',\n",
    "    disabled=False\n",
    ")\n",
    "display(training_options)\n",
    "\n",
    "pretrained = widgets.ToggleButtons(\n",
    "    options=['yes', 'no'],\n",
    "    description='Pretrained:',\n",
    "    disabled=False\n",
    ")\n",
    "display(pretrained)\n",
    "\n",
    "resume = widgets.ToggleButtons(\n",
    "    options=['yes', 'no'],\n",
    "    description='Resume:',\n",
    "    disabled=False\n",
    ")\n",
    "display(resume)\n",
    "\n",
    "network = widgets.ToggleButtons(\n",
    "    options=['diffusion', 'hifisinger'],\n",
    "    description='Network:',\n",
    "    disabled=False\n",
    ")\n",
    "display(network)\n",
    "\n",
    "logger = widgets.ToggleButtons(\n",
    "    options=['wandb', 'tensorboard'],\n",
    "    description='Logger:',\n",
    "    disabled=False\n",
    ")\n",
    "display(logger)\n",
    "\n",
    "resume_checkpoint = widgets.Text(\n",
    "    value='',\n",
    "    placeholder='Enter the checkpoint file name',\n",
    "    description='Checkpoint File:',\n",
    "    disabled=resume.value == 'no'\n",
    ")\n",
    "display(resume_checkpoint)\n",
    "\n",
    "pretrain_checkpoint = widgets.Text(\n",
    "    value='',\n",
    "    placeholder='Enter the pretrain checkpoint file name',\n",
    "    description='Pretrain Checkpoint:',\n",
    "    disabled=pretrained.value == 'no'\n",
    ")\n",
    "display(pretrain_checkpoint)"
   ]
  },
  {
   "cell_type": "code",
   "execution_count": null,
   "metadata": {},
   "outputs": [],
   "source": [
    "if resume.value == 'yes':\n",
    "    resume_str = f\"--resume {resume_checkpoint.value}\"\n",
    "else:\n",
    "    resume_str = \"\"\n",
    "    \n",
    "if pretrain_checkpoint.value != '':\n",
    "    pretrain_str = f\"--pretrain {pretrain_checkpoint.value}\"\n",
    "else:\n",
    "    pretrain_str = ''\n",
    "\n",
    "if logger.value == 'wandb':\n",
    "    logger_str = \"\"\n",
    "else:\n",
    "    looger_str = \"--tensorboard\"\n",
    "    %load_ext tensorboard\n",
    "    %tensorboard --logdir .\n",
    "    \n",
    "    \n",
    "\n",
    "if training_options.value == \"single_gpu\":\n",
    "    cmd = f\"tools/{network}/train.py --config configs/svc_hubert_soft.py {resume_str} {pretrain_str} {logger_str}\"\n",
    "elif training_options.value == \"multi_gpu\":\n",
    "    cmd = f\"tools/{network}/train.py --config configs/svc_content_vec_multi_node.py {resume_str} {pretrain_str} {logger_str}\"\n",
    "elif training_options.value == \"multi_node\":\n",
    "    cmd = f\"tools/{network}/train.py --config configs/svc_cn_hubert_soft_finetune.py {resume_str} {pretrain_str} {logger_str}\"\n",
    "\n",
    "!source /content/env/bin/activate;\\\n",
    "conda activate fish_diffusion;\\\n",
    "python {cmd}"
   ]
  },
  {
   "attachments": {},
   "cell_type": "markdown",
   "metadata": {},
   "source": [
    "#### For Tensorboard"
   ]
  },
  {
   "cell_type": "code",
   "execution_count": null,
   "metadata": {},
   "outputs": [],
   "source": [
    "from tensorboard import notebook\n",
    "notebook.list() # View open TensorBoard instances"
   ]
  },
  {
   "cell_type": "code",
   "execution_count": null,
   "metadata": {},
   "outputs": [],
   "source": [
    "# Control TensorBoard display. If no port is provided, \n",
    "# the most recently launched TensorBoard is used\n",
    "notebook.display(port=6006, height=1000) "
   ]
  }
 ],
 "metadata": {
  "kernelspec": {
   "display_name": "fish-audio",
   "language": "python",
   "name": "python3"
  },
  "language_info": {
   "codemirror_mode": {
    "name": "ipython",
    "version": 3
   },
   "file_extension": ".py",
   "mimetype": "text/x-python",
   "name": "python",
   "nbconvert_exporter": "python",
   "pygments_lexer": "ipython3",
   "version": "3.10.9"
  },
  "orig_nbformat": 4
 },
 "nbformat": 4,
 "nbformat_minor": 2
}
