{
 "cells": [
  {
   "attachments": {},
   "cell_type": "markdown",
   "metadata": {},
   "source": [
    "# Fish Diffusion\n",
    "<div style=\"display: flex; justify-content: center;\">\n",
    "<img alt=\"LOGO\" src=\"https://cdn.jsdelivr.net/gh/fishaudio/fish-diffusion@main/images/logo_512x512.png\" width=\"256\" height=\"256\" />\n",
    "</div>\n",
    "\n",
    "<div style=\"display: flex; justify-content: center;\">\n",
    "<a href=\"https://github.com/fishaudio/fish-diffusion/actions/workflows/ci.yml\">\n",
    "<img alt=\"Build Status\" src=\"https://img.shields.io/github/actions/workflow/status/fishaudio/fish-diffusion/ci.yml?style=flat-square&logo=GitHub\">\n",
    "</a>\n",
    "<a href=\"https://hub.docker.com/r/lengyue233/fish-diffusion\">\n",
    "<img alt=\"Docker Hub\" src=\"https://img.shields.io/docker/cloud/build/lengyue233/fish-diffusion?style=flat-square&logo=Docker&logoColor=white\">\n",
    "</a>\n",
    "<a href=\"https://discord.gg/wbYSRBrW2E\">\n",
    "<img alt=\"Discord\" src=\"https://img.shields.io/discord/1044927142900809739?color=%23738ADB&label=Discord&logo=discord&logoColor=white&style=flat-square\">\n",
    "</a>\n",
    "<a href=\"https://huggingface.co/spaces/fishaudio/fish-diffusion\">\n",
    "<img alt=\"Hugging Face\" src=\"https://img.shields.io/badge/🤗%20Spaces-HiFiSinger-blue.svg?style=flat-square\">\n",
    "</a>\n",
    "<a target=\"_blank\" href=\"https://colab.research.google.com/github/fishaudio/fish-diffusion/blob/notebooks-support/notebooks/fish-audio_sample.ipynb\">\n",
    "  <img src=\"https://colab.research.google.com/assets/colab-badge.svg\" alt=\"Open In Colab\"/>\n",
    "</a>\n",
    "</div>\n",
    "\n",
    "</div>"
   ]
  },
  {
   "attachments": {},
   "cell_type": "markdown",
   "metadata": {},
   "source": [
    "### Environment Setup\n",
    "\n",
    "\n"
   ]
  },
  {
   "attachments": {},
   "cell_type": "markdown",
   "metadata": {},
   "source": [
    "#### Install Conda"
   ]
  },
  {
   "cell_type": "code",
   "execution_count": null,
   "metadata": {},
   "outputs": [],
   "source": [
    "%%bash\n",
    "mkdir /content/env\n",
    "MINICONDA_INSTALLER_SCRIPT=Miniconda3-py310_23.1.0-1-Linux-x86_64.sh\n",
    "MINICONDA_PREFIX=/content/env\n",
    "wget https://repo.continuum.io/miniconda/$MINICONDA_INSTALLER_SCRIPT\n",
    "chmod +x $MINICONDA_INSTALLER_SCRIPT\n",
    "./$MINICONDA_INSTALLER_SCRIPT -b -f -p $MINICONDA_PREFIX"
   ]
  },
  {
   "attachments": {},
   "cell_type": "markdown",
   "metadata": {},
   "source": [
    "#### Create conda environment"
   ]
  },
  {
   "cell_type": "code",
   "execution_count": null,
   "metadata": {},
   "outputs": [],
   "source": [
    "!source /content/env/bin/activate;\\\n",
    "conda create -n fish_diffusion python=3.10 -y"
   ]
  },
  {
   "attachments": {},
   "cell_type": "markdown",
   "metadata": {},
   "source": [
    "#### Install pytorch"
   ]
  },
  {
   "cell_type": "code",
   "execution_count": null,
   "metadata": {},
   "outputs": [],
   "source": [
    "\n",
    "# Install PyTorch related core dependencies\n",
    "!source /content/env/bin/activate;\\\n",
    "conda activate fish_diffusion;\\\n",
    "conda install \"pytorch>=2.0.0\" \"torchvision>=0.15.0\" \"torchaudio>=2.0.0\" pytorch-cuda=11.8 -c pytorch -c nvidia -y\n"
   ]
  },
  {
   "attachments": {},
   "cell_type": "markdown",
   "metadata": {},
   "source": [
    "#### Install dependencies"
   ]
  },
  {
   "cell_type": "code",
   "execution_count": null,
   "metadata": {},
   "outputs": [],
   "source": [
    "!git clone https://github.com/fishaudio/fish-diffusion\n",
    "%cd fish-diffusion"
   ]
  },
  {
   "cell_type": "code",
   "execution_count": null,
   "metadata": {},
   "outputs": [],
   "source": [
    "!source /content/env/bin/activate;\\\n",
    "conda activate fish_diffusion;\\\n",
    "cat requirements.txt | xargs -n 1 pip install;\\\n",
    "pip install -e ."
   ]
  },
  {
   "attachments": {},
   "cell_type": "markdown",
   "metadata": {},
   "source": [
    "### Vocoder preparation"
   ]
  },
  {
   "cell_type": "code",
   "execution_count": null,
   "metadata": {},
   "outputs": [],
   "source": [
    "!source /content/env/bin/activate;\\\n",
    "conda activate fish_diffusion;\\\n",
    "python tools/download_nsf_hifigan.py --agree-license"
   ]
  },
  {
   "attachments": {},
   "cell_type": "markdown",
   "metadata": {},
   "source": [
    "### Dataset preparation\n",
    "```shell\n",
    "dataset\n",
    "├───train\n",
    "│   ├───xxx1-xxx1.wav\n",
    "│   ├───...\n",
    "│   ├───Lxx-0xx8.wav\n",
    "│   └───speaker0 (Subdirectory is also supported)\n",
    "│       └───xxx1-xxx1.wav\n",
    "└───valid\n",
    "    ├───xx2-0xxx2.wav\n",
    "    ├───...\n",
    "    └───xxx7-xxx007.wav\n",
    "```"
   ]
  },
  {
   "attachments": {},
   "cell_type": "markdown",
   "metadata": {},
   "source": [
    "##### Mount google drive or upload your dataset"
   ]
  },
  {
   "cell_type": "code",
   "execution_count": null,
   "metadata": {},
   "outputs": [],
   "source": [
    "from google.colab import drive\n",
    "drive.mount('/content/drive/')"
   ]
  },
  {
   "attachments": {},
   "cell_type": "markdown",
   "metadata": {},
   "source": [
    "#### Soft link your dataset to the current diretory"
   ]
  },
  {
   "cell_type": "code",
   "execution_count": 2,
   "metadata": {},
   "outputs": [],
   "source": [
    "dataset_path = \"/content/drive/MyDrive/test-fish-audio/dataset/\"#@param{type:\"string\"}\n",
    "!ln -s $dataset_path dataset"
   ]
  },
  {
   "attachments": {},
   "cell_type": "markdown",
   "metadata": {},
   "source": [
    "#### Extract all data features, such as pitch, text features, mel features, etc."
   ]
  },
  {
   "attachments": {},
   "cell_type": "markdown",
   "metadata": {},
   "source": [
    "##### if error about torchvision occured, run this cell"
   ]
  },
  {
   "cell_type": "code",
   "execution_count": null,
   "metadata": {},
   "outputs": [],
   "source": [
    "# !source /content/env/bin/activate;\\\n",
    "# conda activate fish_diffusion;\\\n",
    "# pip uninstall torchvision -y;\\\n",
    "# pip install torchvision  --index-url https://download.pytorch.org/whl/cu118"
   ]
  },
  {
   "attachments": {},
   "cell_type": "markdown",
   "metadata": {},
   "source": [
    "##### Extract features"
   ]
  },
  {
   "cell_type": "code",
   "execution_count": null,
   "metadata": {},
   "outputs": [],
   "source": [
    "!source /content/env/bin/activate;\\\n",
    "conda activate fish_diffusion;\\\n",
    "python tools/preprocessing/extract_features.py --config configs/svc_hubert_soft.py --path dataset  --clean"
   ]
  },
  {
   "attachments": {},
   "cell_type": "markdown",
   "metadata": {},
   "source": [
    "### Baseline training\n",
    "> The project is under active development, please backup your config file  \n",
    "> The project is under active development, please backup your config file  \n",
    "> The project is under active development, please backup your config file  "
   ]
  },
  {
   "cell_type": "code",
   "execution_count": 11,
   "metadata": {},
   "outputs": [],
   "source": [
    "training_options = 'single_machine'#@param ['single_machine', 'multi_node']\n",
    "network ='diffusion'#@param ['diffusion', 'hifisinger']\n",
    "\n",
    "logger ='wandb' #@param ['wandb', 'tensorboard']\n",
    "pretrained = 'no'#@param['yes', 'no']\n",
    "resume = 'no'#@param['yes', 'no']\n",
    "resume_checkpoint = ''#@param{type:\"string\"}\n",
    "pretrain_checkpoint = ''#@param{type:\"string\"}"
   ]
  },
  {
   "cell_type": "code",
   "execution_count": 12,
   "metadata": {},
   "outputs": [
    {
     "name": "stdout",
     "output_type": "stream",
     "text": [
      "tools/diffusion/train.py --config configs/svc_hubert_soft.py   \n"
     ]
    }
   ],
   "source": [
    "if resume== 'yes':\n",
    "    resume_str = f\"--resume {resume_checkpoint}\"\n",
    "else:\n",
    "    resume_str = \"\"\n",
    "    \n",
    "if pretrain_checkpoint != '':\n",
    "    pretrain_str = f\"--pretrain {pretrain_checkpoint}\"\n",
    "else:\n",
    "    pretrain_str = ''\n",
    "\n",
    "if logger== 'wandb':\n",
    "    logger_str = \"\"\n",
    "else:\n",
    "    looger_str = \"--tensorboard\"\n",
    "    %load_ext tensorboard\n",
    "    %tensorboard --logdir .\n",
    "    \n",
    "\n",
    "if training_options == \"single_machine\":\n",
    "    cmd = f\"tools/{network}/train.py --config configs/svc_hubert_soft.py {resume_str} {pretrain_str} {logger_str}\"\n",
    "elif training_options == \"multi_node\":\n",
    "    cmd = f\"tools/{network}/train.py --config configs/svc_content_vec_multi_node.py {resume_str} {pretrain_str} {logger_str}\"\n",
    "\n",
    "!source /content/env/bin/activate;\\\n",
    "conda activate fish_diffusion;\\\n",
    "python {cmd}"
   ]
  },
  {
   "attachments": {},
   "cell_type": "markdown",
   "metadata": {},
   "source": [
    "#### For Tensorboard"
   ]
  },
  {
   "cell_type": "code",
   "execution_count": null,
   "metadata": {},
   "outputs": [],
   "source": [
    "from tensorboard import notebook\n",
    "notebook.list() # View open TensorBoard instances"
   ]
  },
  {
   "cell_type": "code",
   "execution_count": null,
   "metadata": {},
   "outputs": [],
   "source": [
    "# Control TensorBoard display. If no port is provided, \n",
    "# the most recently launched TensorBoard is used\n",
    "notebook.display(port=6006, height=1000) "
   ]
  }
 ],
 "metadata": {
  "kernelspec": {
   "display_name": "fish-audio",
   "language": "python",
   "name": "python3"
  },
  "language_info": {
   "codemirror_mode": {
    "name": "ipython",
    "version": 3
   },
   "file_extension": ".py",
   "mimetype": "text/x-python",
   "name": "python",
   "nbconvert_exporter": "python",
   "pygments_lexer": "ipython3",
   "version": "3.10.9"
  },
  "orig_nbformat": 4
 },
 "nbformat": 4,
 "nbformat_minor": 2
}
